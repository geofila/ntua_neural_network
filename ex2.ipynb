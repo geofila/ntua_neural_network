{
 "cells": [
  {
   "cell_type": "markdown",
   "metadata": {},
   "source": [
    "<center><h1> Νευρωνικά Δίκτυα και Ευφυή Υπολογιστικά Συστήματα </h1></center>\n",
    "<center><h2>Δεύτερο Ερώτημα</h2></center><br>\n",
    "\n",
    "Στο ερώτημα αυτό έχουμε ένα δείγμα από σήματα τα οποία λαβάνονται από αισθητήρες που παρακολουθούν την κατασκευή ημιαγωγών. Συγκεκριμένα έχουμε 590 χαρακτηριστικά, διαφορετικά σήματα αισθητήρων δηλαδή, και 1566 διαφορετικές δοκιμές. Τα Labels δίνονται σε ένα δεύτερο αρχείο και οι τιμές του είναι κατηγορικές, δηλαδή έχει -1 αν έγινε σωστά η κατασκευή και 1 αν είχαμε πρόβλημα. Στο πρόβλημα αυτό όπως αναφέρεται είχαμε 104 επιτυχιμένες δοκιμές. Μαζί με τα labels δίνεται και η ακριβής ώρα και μέρα που έγινε η δοκιμή. Αξίζει να σημειωθεί οτι στα δείγματα που έχουμε, όπως και στα περισσότερα πραγματικά δείγματα, λείπουν ορισμένες τιμές. Οι τιμες που λείπουν (κενή τιμή Null) σημειώνονται με την τιμή NaN στα δεδομένα εισόδου."
   ]
  },
  {
   "cell_type": "markdown",
   "metadata": {},
   "source": [
    "Αρχικά κατα τα γνωστά διαβάζουμε τα αρχεία με τα δεδομένα."
   ]
  },
  {
   "cell_type": "code",
   "execution_count": 1,
   "metadata": {},
   "outputs": [],
   "source": [
    "from io import StringIO\n",
    "import requests\n",
    "import json\n",
    "import pandas as pd\n",
    "\n",
    "# @hidden_cell\n",
    "# This function accesses a file in your Object Storage. The definition contains your credentials.\n",
    "# You might want to remove those credentials before you share your notebook.\n",
    "def get_object_storage_file_with_credentials_1a61d8e4b9784ac4b9ae5c6303ca5849(container, filename):\n",
    "    \"\"\"This functions returns a StringIO object containing\n",
    "    the file content from Bluemix Object Storage.\"\"\"\n",
    "\n",
    "    url1 = ''.join(['https://identity.open.softlayer.com', '/v3/auth/tokens'])\n",
    "    data = {'auth': {'identity': {'methods': ['password'],\n",
    "            'password': {'user': {'name': 'member_7766c6a00034dbf507b1f21d69eaf2b65b06a5ae','domain': {'id': '96c8e9860dc740b281dacc613be9e1ab'},\n",
    "            'password': 'wQpop!A1o1-Eobz^'}}}}}\n",
    "    headers1 = {'Content-Type': 'application/json'}\n",
    "    resp1 = requests.post(url=url1, data=json.dumps(data), headers=headers1)\n",
    "    resp1_body = resp1.json()\n",
    "    for e1 in resp1_body['token']['catalog']:\n",
    "        if(e1['type']=='object-store'):\n",
    "            for e2 in e1['endpoints']:\n",
    "                        if(e2['interface']=='public'and e2['region']=='dallas'):\n",
    "                            url2 = ''.join([e2['url'],'/', container, '/', filename])\n",
    "    s_subject_token = resp1.headers['x-subject-token']\n",
    "    headers2 = {'X-Auth-Token': s_subject_token, 'accept': 'application/json'}\n",
    "    resp2 = requests.get(url=url2, headers=headers2)\n",
    "    return StringIO(resp2.text)\n",
    "\n",
    "# Your data file was loaded into a StringIO object and you can process the data.\n",
    "# Please read the documentation of pandas to learn more about your possibilities to load your data.\n",
    "# pandas documentation: http://pandas.pydata.org/pandas-docs/stable/io.html\n",
    "data_1= get_object_storage_file_with_credentials_1a61d8e4b9784ac4b9ae5c6303ca5849('exercise1', 'secom.data')\n"
   ]
  },
  {
   "cell_type": "code",
   "execution_count": 2,
   "metadata": {},
   "outputs": [],
   "source": [
    "# Your data file was loaded into a StringIO object and you can process the data.\n",
    "# Please read the documentation of pandas to learn more about your possibilities to load your data.\n",
    "# pandas documentation: http://pandas.pydata.org/pandas-docs/stable/io.html\n",
    "data_2 = get_object_storage_file_with_credentials_1a61d8e4b9784ac4b9ae5c6303ca5849('exercise1', 'secom_labels.data')\n"
   ]
  },
  {
   "cell_type": "code",
   "execution_count": 3,
   "metadata": {},
   "outputs": [],
   "source": [
    "data_df= pd.read_csv(data_1, sep=' ')\n",
    "labels_df= pd.read_csv(data_2, sep= ' ')"
   ]
  },
  {
   "cell_type": "markdown",
   "metadata": {},
   "source": [
    "Για να μπορέσουμε να επεξεργαστούμε τα δεδομένα αντικαθιστούμε τις ΝaN τιμές με το μέσο όρο των στοιχείων σε αυτή την στήλη. Επιλέξαμε να κάνουμε αυτό και οχι απλά να αφαιρέσουμε τις γραμμές που λείπουν στοιχεία για να μη χάσουμε πολύ χρήσιμη πληροφορία μιας και σε μεγάλο προσοστό των γραμμων είχαμε στοιχεία που έλειπαν. Επίσης, τόσο για την καλύτερη αίσθηση των δεδομένων όσο και για τον ευκολότερο χειρισμό τους μετασχηματίζουμε τα labels βάζοντας στις τιμές -1 το 1, το οποίο αυτό τωρα αναπαριστά την περίπτωση επιτυχίας και όπου 1 το 0 το οποίο αναπαριστά την περίπτωση αποτυχίας."
   ]
  },
  {
   "cell_type": "code",
   "execution_count": 4,
   "metadata": {},
   "outputs": [
    {
     "name": "stdout",
     "output_type": "stream",
     "text": [
      "(1566,)\n",
      "(1566, 590)\n",
      "[1 0 1 ..., 1 1 1]\n"
     ]
    }
   ],
   "source": [
    "import numpy as np\n",
    "data_missing= data_df.replace('NaN', np.NaN)\n",
    "\n",
    "l_df= labels_df.ix[:,0]\n",
    "l_df.shape\n",
    "data_missing = data_df.values\n",
    "\n",
    "mapping = {-1: 0}\n",
    "l_p1 = l_df.replace(1, 0)\n",
    "l_p2 = l_p1.replace(-1, 1)\n",
    "# Τον πίνακα label τον αποθηκεύω με την μέθοδο flatten για να έχει μέγεθος (195,) και όχι (195,1)\n",
    "labels = l_p2.values\n",
    "print labels.shape\n",
    "print data_missing.shape\n",
    "print labels"
   ]
  },
  {
   "cell_type": "markdown",
   "metadata": {},
   "source": [
    "Βλέπουμε οτι όντως δεν υπάρχουν -1 στον πίνακα με τα αποτελέσματα των δοκιμών."
   ]
  },
  {
   "cell_type": "code",
   "execution_count": 5,
   "metadata": {},
   "outputs": [
    {
     "name": "stdout",
     "output_type": "stream",
     "text": [
      "(1566, 590)\n"
     ]
    }
   ],
   "source": [
    "from sklearn.preprocessing import Imputer\n",
    "imp = Imputer(missing_values='NaN', strategy='mean', axis=0)\n",
    "imp.fit(data_missing)\n",
    "data= imp.transform(data_missing)\n",
    "print data.shape"
   ]
  },
  {
   "cell_type": "markdown",
   "metadata": {},
   "source": [
    "Ελέγχουμε αν τα στοιχεία του τελικού πίνακα με τα δεδομένα έχουν NaN τιμές. Βλέπουμε πως στα αρχικά δεδομένα είχαμε τίμες που έλειπαν ενώ στα τελικά όχι. Σε αυτήν την μορφή μπορούμε να επεξεργαστούμε τα δεδομένα των πινάκων."
   ]
  },
  {
   "cell_type": "code",
   "execution_count": 6,
   "metadata": {},
   "outputs": [
    {
     "name": "stdout",
     "output_type": "stream",
     "text": [
      "Has NaN values:  True\n",
      "Has NaN values:  False\n"
     ]
    }
   ],
   "source": [
    "print \"Has NaN values: \", np.isnan(np.sum(data_missing)) \n",
    "print \"Has NaN values: \", np.isnan(np.sum(data))"
   ]
  },
  {
   "cell_type": "markdown",
   "metadata": {},
   "source": [
    "Επίσης μετράμε τον αριθμό pass/fail στα αποτελέσματα για να καταλάβουμε αν τα δεδομένα μας είναι ισορροπημένα ή οχι. Από τα αποτελέσματα βλέπουμε οτι τα δεδομένα μας δεν είναι ισορροπημένα με αποτέλεσμα ίσως να μην γίνεται καλύ εκπαίδευση των ταξινομητών. Η πραγματική αξιολόγηση για το αν χρειάζεται να ισορροπηθούν τα train δείγματα θα γίνει αργότερα."
   ]
  },
  {
   "cell_type": "code",
   "execution_count": 7,
   "metadata": {},
   "outputs": [
    {
     "name": "stdout",
     "output_type": "stream",
     "text": [
      "[ 104 1462]\n"
     ]
    }
   ],
   "source": [
    "frequencies= np.bincount(labels)\n",
    "print frequencies"
   ]
  },
  {
   "cell_type": "markdown",
   "metadata": {},
   "source": [
    "Από το παραπάνω βλέπουμε οτι έχουμε κάνει σωστά την μετατροπή, μιας και από τα στοιχεία του προβλήματος γνωρίζαμε οτι είχαμε 104 αποτυχιμένες δοκιμές."
   ]
  },
  {
   "cell_type": "markdown",
   "metadata": {},
   "source": [
    "Ορίζουμε τις συναρτήσεις που είχαμε από πριν για να κάνουμε πιο εύκολη την διαδικασία οπτικοποίησης και σύγκρισης των αποτελεσμάτων."
   ]
  },
  {
   "cell_type": "code",
   "execution_count": 8,
   "metadata": {},
   "outputs": [],
   "source": [
    "import matplotlib.pyplot as plt; plt.rcdefaults()\n",
    "def graph_bar(statistics, x_labels):\n",
    "    # data to plot\n",
    "    n_groups = len(x_labels)\n",
    "    # create plot\n",
    "    fig, ax = plt.subplots()\n",
    "    index = np.arange(n_groups)\n",
    "    bar_width = 0.35\n",
    "    opacity = 0.8\n",
    "    F1_weighted= statistics[0::2]\n",
    "    F1_macro= statistics[1::2]\n",
    "\n",
    "    rects1 = plt.bar(index, F1_weighted, bar_width,\n",
    "                     alpha=opacity,\n",
    "                     color='b',\n",
    "                     label='F1 Weighted')\n",
    "\n",
    "    rects2 = plt.bar(index + bar_width, F1_macro, bar_width,\n",
    "                     alpha=opacity,\n",
    "                     color='g',\n",
    "                     label='F1 Macro')\n",
    "\n",
    "    plt.xlabel('Classifier')\n",
    "    plt.ylabel('Scores')\n",
    "    plt.title('Scores by classifier')\n",
    "    plt.xticks(index + bar_width, x_labels)\n",
    "    plt.legend(loc='best')\n",
    "\n",
    "    # Tell matplotlib to interpret the x-axis values as dates\n",
    "    # Make space for and rotate the x-axis tick labels\n",
    "    fig.autofmt_xdate()\n",
    "    plt.tight_layout()\n",
    "    plt.show()"
   ]
  },
  {
   "cell_type": "code",
   "execution_count": 9,
   "metadata": {},
   "outputs": [],
   "source": [
    "from sklearn.metrics import confusion_matrix\n",
    "from sklearn.metrics import precision_recall_fscore_support\n",
    "from sklearn.metrics import classification_report\n",
    "\n",
    "def report(test_labels, preds, forwhich):\n",
    "    print classification_report(test_labels, preds, target_names = ['1','0'])\n",
    "    print \"Confusion matrix for {}:\".format(forwhich)\n",
    "    print \"[[0  1]]\"\n",
    "    print confusion_matrix(test_labels, preds), \"\\n\"\n",
    "    (w1,w2,w3,w4) = precision_recall_fscore_support(test_labels, preds, average='weighted')\n",
    "    print \"F1 weighted average: %f \\n\" % w3\n",
    "    (m1,m2,m3,m4) = precision_recall_fscore_support(test_labels, preds, average='macro')\n",
    "    print \"F1 macro average: %f \\n\" % m3\n",
    "    return (w3,m3);"
   ]
  },
  {
   "cell_type": "markdown",
   "metadata": {},
   "source": [
    "Χωρίζουμε τα δείγματά μας σε train και σε test έτσι ώστε το δεδομένα της δοκιμής να είναι το 30% των αρχικών. Παράλληλα χωρίζουμε και τα αποτελέσματα των δοκιμών."
   ]
  },
  {
   "cell_type": "code",
   "execution_count": 10,
   "metadata": {},
   "outputs": [
    {
     "name": "stdout",
     "output_type": "stream",
     "text": [
      "(1096, 590)\n",
      "(470, 590)\n"
     ]
    }
   ],
   "source": [
    "from sklearn.model_selection import train_test_split\n",
    "\n",
    "# Χωρίζουμε τα δεδομένα σε train και σε test\n",
    "train, test, train_labels, test_labels = train_test_split(data, labels, test_size=0.3)\n",
    "print train.shape  \n",
    "print test.shape"
   ]
  },
  {
   "cell_type": "code",
   "execution_count": 11,
   "metadata": {},
   "outputs": [
    {
     "name": "stdout",
     "output_type": "stream",
     "text": [
      "             precision    recall  f1-score   support\n",
      "\n",
      "          1       0.07      0.50      0.12        32\n",
      "          0       0.93      0.49      0.64       438\n",
      "\n",
      "avg / total       0.87      0.49      0.61       470\n",
      "\n",
      "Confusion matrix for Most Frequent Label:\n",
      "[[0  1]]\n",
      "[[ 16  16]\n",
      " [222 216]] \n",
      "\n",
      "F1 weighted average: 0.608946 \n",
      "\n",
      "F1 macro average: 0.381647 \n",
      "\n",
      "             precision    recall  f1-score   support\n",
      "\n",
      "          1       0.07      1.00      0.13        32\n",
      "          0       0.00      0.00      0.00       438\n",
      "\n",
      "avg / total       0.00      0.07      0.01       470\n",
      "\n",
      "Confusion matrix for Constant 0:\n",
      "[[0  1]]\n",
      "[[ 32   0]\n",
      " [438   0]] \n",
      "\n",
      "F1 weighted average: 0.008680 \n",
      "\n",
      "F1 macro average: 0.063745 \n",
      "\n",
      "             precision    recall  f1-score   support\n",
      "\n",
      "          1       0.00      0.00      0.00        32\n",
      "          0       0.93      1.00      0.96       438\n",
      "\n",
      "avg / total       0.87      0.93      0.90       470\n",
      "\n",
      "Confusion matrix for Constant 1:\n",
      "[[0  1]]\n",
      "[[  0  32]\n",
      " [  0 438]] \n",
      "\n",
      "F1 weighted average: 0.899072 \n",
      "\n",
      "F1 macro average: 0.482379 \n",
      "\n",
      "             precision    recall  f1-score   support\n",
      "\n",
      "          1       0.00      0.00      0.00        32\n",
      "          0       0.93      1.00      0.96       438\n",
      "\n",
      "avg / total       0.87      0.93      0.90       470\n",
      "\n",
      "Confusion matrix for Most frequent:\n",
      "[[0  1]]\n",
      "[[  0  32]\n",
      " [  0 438]] \n",
      "\n",
      "F1 weighted average: 0.899072 \n",
      "\n",
      "F1 macro average: 0.482379 \n",
      "\n",
      "             precision    recall  f1-score   support\n",
      "\n",
      "          1       0.10      0.09      0.10        32\n",
      "          0       0.93      0.94      0.94       438\n",
      "\n",
      "avg / total       0.88      0.88      0.88       470\n",
      "\n",
      "Confusion matrix for Stratified:\n",
      "[[0  1]]\n",
      "[[  3  29]\n",
      " [ 28 410]] \n",
      "\n",
      "F1 weighted average: 0.877830 \n",
      "\n",
      "F1 macro average: 0.515122 \n",
      "\n",
      "Classification Accuracy on Parkinson Data with 20% test set:\n",
      "constant: 1: 0.931914893617\n",
      "dc_most_frequent: 0.931914893617\n",
      "stratified: 0.895744680851\n",
      "uniform (random): 0.510638297872\n",
      "constant: 0: 0.068085106383\n"
     ]
    },
    {
     "name": "stderr",
     "output_type": "stream",
     "text": [
      "/gpfs/fs01/user/sa71-dc88b9d39accf5-024122dacd14/.local/lib/python2.7/site-packages/sklearn/metrics/classification.py:1135: UndefinedMetricWarning: Precision and F-score are ill-defined and being set to 0.0 in labels with no predicted samples.\n",
      "  'precision', 'predicted', average, warn_for)\n"
     ]
    }
   ],
   "source": [
    "from sklearn.dummy import DummyClassifier\n",
    "\n",
    "dc_uniform = DummyClassifier(strategy=\"uniform\")\n",
    "dc_constant_0 = DummyClassifier(strategy=\"constant\", constant=0)\n",
    "dc_constant_1 = DummyClassifier(strategy=\"constant\", constant=1)\n",
    "dc_most_frequent = DummyClassifier(strategy=\"most_frequent\")\n",
    "dc_stratified = DummyClassifier(strategy=\"stratified\")\n",
    "# Αρχικοποιούμε ένα κένο λεξικό\n",
    "accuracy= {}\n",
    "\n",
    "# με τη μέθοδο fit \"εκπαιδεύουμε\" κάθε έναν από τους ταξινομητές στο σύνολο εκπαίδευσης (τα χαρακτηριστικά και τις ετικέτες τους)\n",
    "# Κανουμε την εκπαίδευση για κάθε ταξινομητή και τα αποτελέσματα αυτών τα βάζουμε μάζι με ένα όνομα στο dictionary που κατασκευάσαμε \n",
    "# Εκπαίδευση uniform ταξινομητή\n",
    "model = dc_uniform.fit(train, train_labels)\n",
    "# Βάζουμε το ποσοσοστό της πιστότητας στο λεξικό\n",
    "accuracy['uniform (random)'] = dc_uniform.score(test, test_labels)\n",
    "predicts = dc_uniform.predict(test)\n",
    "(uw, um) = report(test_labels,predicts,'Most Frequent Label')\n",
    "    \n",
    "# Εκπαίδευση constant ταξινομητή με constant = 0\n",
    "model = dc_constant_0.fit(train, train_labels)\n",
    "accuracy['constant: 0'] = dc_constant_0.score(test, test_labels)\n",
    "predicts = dc_constant_0.predict(test)\n",
    "(c0w, c0m) = report(test_labels,predicts,'Constant 0')\n",
    "# Εκπαίδευση constant ταξινομητή με constant = 1\n",
    "model = dc_constant_1.fit(train, train_labels)\n",
    "accuracy['constant: 1'] = dc_constant_1.score(test, test_labels)\n",
    "predicts = dc_constant_1.predict(test)\n",
    "(c1w, c1m) = report(test_labels,predicts,'Constant 1')\n",
    "    \n",
    "# Εκπαίδευση most-frequent ταξινομητή \n",
    "model = dc_most_frequent.fit(train, train_labels)\n",
    "accuracy['dc_most_frequent'] = dc_most_frequent.score(test, test_labels)\n",
    "predicts = dc_most_frequent.predict(test)\n",
    "(mfw, mfm) = report(test_labels,predicts,'Most frequent')\n",
    "# Εκπαίδευση stratified ταξινομητή \n",
    "model = dc_stratified.fit(train, train_labels)\n",
    "accuracy['stratified'] = dc_stratified.score(test, test_labels)\n",
    "predicts = dc_stratified.predict(test)\n",
    "(sw, sm) = report(test_labels,predicts,'Stratified')\n",
    "print \"Classification Accuracy on Parkinson Data with 20% test set:\"\n",
    "    \n",
    "for key, value in sorted(accuracy.iteritems(), key=lambda (k,v): (-v,k)):\n",
    "    print \"%s: %s\" % (key, value)\n",
    "\n",
    "DUMMIES_report= (uw, um, c0w, c0m, c1w, c1m, mfw, mfm, sw, sm)"
   ]
  },
  {
   "cell_type": "markdown",
   "metadata": {},
   "source": [
    "Τα αποτελέσμτα των Dummies και ο σχολιασμός τους δεν διαφέρουν πολύ από το προηγούμενο ερώτημα. Επειδή το ποσοστό των επιτυχιμένων προσπαθειών είναι πολύ μεγαλύτερο από αυτών που είχαν πρόβλήμα ο constant 0 έχει πολύ μικρό ποσοστό επιτυχίας ενώ ο constant 1 πολύ μεγάλο, όπως και οι υπόλοιποι. Συγκεκριμένα ο contstant 1 έχει ποσοστό επιτυχίας 88% όπως και ο Most Frequent και ο stratified έχει 86%. Παρόλο τα υψηλά ποσοστά τους σε κάμια περίπτωση δεν αρκούν αυτοί οι ταξινομητές γιατί όπως αναφέραμε και πριν η ειδική μορφή του dataset τους δίνει αυτές τις τιμές και όχι η πραγματική ικανότητά τους να ταξινομήσουν τα δεδομένα."
   ]
  },
  {
   "cell_type": "markdown",
   "metadata": {},
   "source": [
    "Στο σημείο αυτό θα κατασκευάσουμε έναν knn Classifier ο οποίος χρησιμοποιεί εναν αριθμό απο τις πιο κοντινές αποστάσεις από τα σημεία που γνωρίζει (από train set) για να ταξινομήσει τα δεδομένα. Τον ταξινομητή αυτόν τον κατασκευάζουμε με τις default τιμές του, δηλαδή ο αριθμός των κοντινότερων γειτόνων που εξετάζει κάθε φορά είναι το default=5."
   ]
  },
  {
   "cell_type": "code",
   "execution_count": 12,
   "metadata": {},
   "outputs": [
    {
     "name": "stdout",
     "output_type": "stream",
     "text": [
      "             precision    recall  f1-score   support\n",
      "\n",
      "          1       0.00      0.00      0.00        32\n",
      "          0       0.93      1.00      0.96       438\n",
      "\n",
      "avg / total       0.87      0.93      0.90       470\n",
      "\n",
      "Confusion matrix for knn:\n",
      "[[0  1]]\n",
      "[[  0  32]\n",
      " [  1 437]] \n",
      "\n",
      "F1 weighted average: 0.898008 \n",
      "\n",
      "F1 macro average: 0.481808 \n",
      "\n"
     ]
    }
   ],
   "source": [
    "from sklearn.neighbors import KNeighborsClassifier\n",
    "from sklearn.metrics import accuracy_score\n",
    "knn = KNeighborsClassifier()\n",
    "knn.fit(train, train_labels)\n",
    "pred = knn.predict(test)\n",
    "KNN_report=report(test_labels, pred, 'knn')"
   ]
  },
  {
   "cell_type": "markdown",
   "metadata": {},
   "source": [
    "Βλέπουμε οτι ο ταξηνομητής αυτός είχε αρκετά καλό σκορ φτάνοντας το f1 weighted= 88%. Από τον πίνακα σύγχυσης βλέπουμε ότι δεν κατάφερε να βρει καμία αποτυχημένη προσπάθεια ενώ για ένα μόνο δεδομένο έβαλε οτι η δοκιμή ήταν αποτυχημένη ενώ στην πραγματικότητα έκανε λάθος.\n",
    "\n",
    "Στη συνέχεια κατασκευάζουμε έναν Gaussian Naive Bayes Classification με τις default τιμές."
   ]
  },
  {
   "cell_type": "code",
   "execution_count": 13,
   "metadata": {},
   "outputs": [
    {
     "name": "stdout",
     "output_type": "stream",
     "text": [
      "             precision    recall  f1-score   support\n",
      "\n",
      "          1       0.07      0.88      0.13        32\n",
      "          0       0.95      0.17      0.29       438\n",
      "\n",
      "avg / total       0.89      0.22      0.28       470\n",
      "\n",
      "Confusion matrix for gnb:\n",
      "[[0  1]]\n",
      "[[ 28   4]\n",
      " [363  75]] \n",
      "\n",
      "F1 weighted average: 0.279395 \n",
      "\n",
      "F1 macro average: 0.211262 \n",
      "\n"
     ]
    }
   ],
   "source": [
    "from sklearn.naive_bayes import GaussianNB\n",
    "gnb = GaussianNB()\n",
    "# κάνουμε εκπαίδευση (fit) δηλαδή ουσιαστικά υπολογίζουμε μέση τιμή και διακύμανση για όλα τα χαρακτηριστικά και κλάσεις στο training set\n",
    "model = gnb.fit(train, train_labels)\n",
    "preds= gnb.predict(test)\n",
    "# η GaussianNB έχει builtin μέθοδο υπολογισμό accuracy. Αποθηκεύουμε την τιμή της στον πίνακά μας με τα αποτελέσματα από τα άλλα classifie\n",
    "prds= gnb.score(test, test_labels)\n",
    "GNB_report=report (test_labels, preds, 'gnb')"
   ]
  },
  {
   "cell_type": "markdown",
   "metadata": {},
   "source": [
    "Από τις παραπάνω τιμές παρατηρούμε οτι έχουμε πολύ μικρό ποσοστό επιτυχίας για τον GNB classificator μιας και ο F1 weighted είναι μόνο 23%"
   ]
  },
  {
   "cell_type": "markdown",
   "metadata": {},
   "source": [
    "Τέλος κατασκευάζουμε έναν mlp πάλι με τις default τιμές του και βλέπουμε τις αποδόσεις του."
   ]
  },
  {
   "cell_type": "code",
   "execution_count": 14,
   "metadata": {},
   "outputs": [
    {
     "name": "stdout",
     "output_type": "stream",
     "text": [
      "             precision    recall  f1-score   support\n",
      "\n",
      "          1       0.10      0.16      0.12        32\n",
      "          0       0.94      0.90      0.92       438\n",
      "\n",
      "avg / total       0.88      0.85      0.86       470\n",
      "\n",
      "Confusion matrix for MLP Default:\n",
      "[[0  1]]\n",
      "[[  5  27]\n",
      " [ 43 395]] \n",
      "\n",
      "F1 weighted average: 0.864572 \n",
      "\n",
      "F1 macro average: 0.521802 \n",
      "\n"
     ]
    }
   ],
   "source": [
    "from sklearn.neural_network import MLPClassifier\n",
    "from sklearn.metrics import classification_report\n",
    "\n",
    "# Κατασκευάζουμε ένα MLP με τις defualt τιμές παραμάτρων\n",
    "clf = MLPClassifier()\n",
    "clf.fit(train, train_labels)\n",
    "preds = clf.predict(test)\n",
    "MLP_report = report(test_labels, preds, 'MLP Default')"
   ]
  },
  {
   "cell_type": "markdown",
   "metadata": {},
   "source": [
    "To default MLP με τα αρχικά δεδομένα έχει F1 weighted περίπου στο 85%. Παρακάτω παρουσιάζεται μια γραφική αναπαράσταση των αποτελεσμάτων για όλους τους classificators."
   ]
  },
  {
   "cell_type": "code",
   "execution_count": 15,
   "metadata": {},
   "outputs": [
    {
     "data": {
      "image/png": "[encoded data removed]",
      "text/plain": [
       "<matplotlib.figure.Figure at 0x7f2d0e921e90>"
      ]
     },
     "metadata": {},
     "output_type": "display_data"
    }
   ],
   "source": [
    "reports=DUMMIES_report + KNN_report + GNB_report + MLP_report\n",
    "x_labels= ['Uniform','Constant 0', 'Constant 1', 'Most Frequent', 'Stratified','Knn','GNB', 'MLP']\n",
    "graph_bar(reports, x_labels)"
   ]
  },
  {
   "cell_type": "markdown",
   "metadata": {},
   "source": [
    "<center><h2>Bελτιστοποιήση ταξινομητών</h2></center><br>\n",
    "\n",
    "Στην συνέχεια θα βρούμε την βελτιστη αρχιτεκτονική καθώς και τις βέλτιστες τιμές των υπερπαραμέτρων των ταξινομητών.\n",
    "\n",
    "<center><h3> KNN Classificator</h3></center>\n",
    "Ξεκινάμε από τον **KNN Classificator**."
   ]
  },
  {
   "cell_type": "code",
   "execution_count": 16,
   "metadata": {},
   "outputs": [],
   "source": [
    "from imblearn.pipeline import Pipeline\n",
    "\n",
    "# φέρνουμε τις γνωστές μας κλάσεις για preprocessing\n",
    "from sklearn.feature_selection import VarianceThreshold\n",
    "from sklearn.preprocessing import StandardScaler # φέρνουμε τον StandarScaler ως transformer που έχει .transform kai όχι ως scale()\n",
    "from imblearn.over_sampling import RandomOverSampler\n",
    "from sklearn.decomposition import PCA\n",
    "\n",
    "# αρχικοποιούμε τους εκτιμητές (μετασχηματιστές και ταξινομητή) χωρίς παραμέτρους\n",
    "selector = VarianceThreshold()\n",
    "scaler = StandardScaler()\n",
    "ros = RandomOverSampler()\n",
    "pca = PCA()\n",
    "clf = KNeighborsClassifier(n_jobs=-1) \n",
    "pipe = Pipeline(steps=[('selector', selector),('scaler', scaler),('pca', pca), ('kNN', clf)], memory = 'tmp')"
   ]
  },
  {
   "cell_type": "code",
   "execution_count": 17,
   "metadata": {},
   "outputs": [
    {
     "name": "stdout",
     "output_type": "stream",
     "text": [
      "             precision    recall  f1-score   support\n",
      "\n",
      "          1       0.67      0.06      0.11        32\n",
      "          0       0.94      1.00      0.97       438\n",
      "\n",
      "avg / total       0.92      0.93      0.91       470\n",
      "\n",
      "Confusion matrix for Pipe KNN:\n",
      "[[0  1]]\n",
      "[[  2  30]\n",
      " [  1 437]] \n",
      "\n",
      "F1 weighted average: 0.907774 \n",
      "\n",
      "F1 macro average: 0.540016 \n",
      "\n",
      "(0.89800839803889365, 0.48180815876515987)\n",
      "(0.90777410200003361, 0.54001578531965277)\n"
     ]
    },
    {
     "data": {
      "image/png": "[encoded data removed]",
      "text/plain": [
       "<matplotlib.figure.Figure at 0x7f2cfd8353d0>"
      ]
     },
     "metadata": {},
     "output_type": "display_data"
    }
   ],
   "source": [
    "pipe.fit(train,train_labels)\n",
    "preds = pipe.predict(test)\n",
    "KNN_pipe_report= report(test_labels, preds,'Pipe KNN')\n",
    "print KNN_report\n",
    "print KNN_pipe_report\n",
    "KNN_reports= KNN_report + KNN_pipe_report\n",
    "x_labels= ['Default KNN', 'KNN with Prepsossecing']\n",
    "graph_bar(KNN_reports, x_labels)"
   ]
  },
  {
   "cell_type": "markdown",
   "metadata": {},
   "source": [
    "Καθώς προσπαθούσαμε να βρούμε την βέλτιστη αρχιτεκτονική για την προεπεξεργασία των δεδομένων παρατηρήσαμε ότι το σκόρ δεν ανέβαινε ή αυξανόταν ελάχιστα. Κατά κύριο λόγο η όποια προεπεξεργασία έτεινε να αφήνει άθικτο ή ακόμη και να μειώνε την απόδοση του KNN ταξινομητη. Ιδιαίτερα επηρεαζόταν από τον OverSampler τον οποίο όταν τον προσθέταμε χειροτέρευε πολύ τα αποτελέσματα. Η αρχιτεκτονική που αφήσαμε δείχνει ότι αυξάνει έστω και ελάχιστα την απόδοση του ταξινομητή. Υπενθυμίζουμε οτι ο ΚΝΝ έχει τις default τιμές και δεν έχουμε κάνει κάποιο Optimazation σε αυτόν. Απαραίτητο σε αυτό ήταν το στάδιο της scaler ώστε να μην μπορούν ακραίες τιμές να επηρεάζουν το αποτέλεσμα.\n",
    "\n",
    "Στην συνέχεια θα κάνουμε **grid Search** σε αυτόν, με σκοπό να βρούμε τις βέλτιστες υπερπαραμέτρους του συστήματος. Θα κρατήσουμε την παραπάνω αρχιτεκτονική που μας έβρισκε καλά αποτελέσματα και θα ορίσουμε τις πιθανές τιμές που θα ψάξουμε. Αρχικά για τον knn έχουμε τρείς υπερπαράμετρους: τον αριθμό των γειτόνων (μονός αριθμός), τα metrics και τα weights. Επίσης δοκιμάζουμε και ορισμένες τιμές για το κατώφλι και τον αριθμό των συνιστωσών του PCA.\n",
    "\n",
    "Αφου βρούμε τις βέλτιστες τιμές θα κάνουμε Predict το test δείγμα και θα συγκρίνουμε τα αποτελέσματα των ταξινομητών."
   ]
  },
  {
   "cell_type": "code",
   "execution_count": 18,
   "metadata": {},
   "outputs": [],
   "source": [
    "from sklearn.model_selection import GridSearchCV\n",
    "vthreshold = [0, 0.01, 0.02]\n",
    "n_components = [8, 20, 25, 30, 35]\n",
    "k = [1, 5, 7, 9, 13, 21]\n",
    "weights= ['uniform', 'distance']\n",
    "metrics= ['euclidean','minkowski']"
   ]
  },
  {
   "cell_type": "code",
   "execution_count": 21,
   "metadata": {},
   "outputs": [],
   "source": [
    "estimator = GridSearchCV(pipe, dict(selector__threshold=vthreshold, pca__n_components=n_components,kNN__weights=weights,kNN__metric=metrics, kNN__n_neighbors=k), scoring='f1_macro', n_jobs=1)"
   ]
  },
  {
   "cell_type": "code",
   "execution_count": 22,
   "metadata": {},
   "outputs": [
    {
     "name": "stderr",
     "output_type": "stream",
     "text": [
      "/gpfs/fs01/user/sa71-dc88b9d39accf5-024122dacd14/.local/lib/python2.7/site-packages/sklearn/metrics/classification.py:1135: UndefinedMetricWarning: F-score is ill-defined and being set to 0.0 in labels with no predicted samples.\n",
      "  'precision', 'predicted', average, warn_for)\n"
     ]
    },
    {
     "name": "stdout",
     "output_type": "stream",
     "text": [
      "Took: 419.215070963 sec\n"
     ]
    }
   ],
   "source": [
    "import time\n",
    "time1= time.time()\n",
    "estimator.fit(train, train_labels)\n",
    "preds = estimator.predict(test)\n",
    "print \"Took: %s sec\" %(time.time()- time1)"
   ]
  },
  {
   "cell_type": "markdown",
   "metadata": {},
   "source": [
    "Εκτυπώνουμε τις βέλτιστες παραμέτρους που βρήκε το Grid Search που κάνεμε."
   ]
  },
  {
   "cell_type": "code",
   "execution_count": 23,
   "metadata": {},
   "outputs": [
    {
     "name": "stdout",
     "output_type": "stream",
     "text": [
      "Pipeline(memory='tmp',\n",
      "     steps=[('selector', VarianceThreshold(threshold=0.02)), ('scaler', StandardScaler(copy=True, with_mean=True, with_std=True)), ('pca', PCA(copy=True, iterated_power='auto', n_components=20, random_state=None,\n",
      "  svd_solver='auto', tol=0.0, whiten=False)), ('kNN', KNeighborsClassifier(algorithm='auto', leaf_size=30, metric='euclidean',\n",
      "           metric_params=None, n_jobs=-1, n_neighbors=1, p=2,\n",
      "           weights='uniform'))])\n"
     ]
    }
   ],
   "source": [
    "print estimator.best_estimator_"
   ]
  },
  {
   "cell_type": "code",
   "execution_count": 24,
   "metadata": {},
   "outputs": [
    {
     "name": "stdout",
     "output_type": "stream",
     "text": [
      "             precision    recall  f1-score   support\n",
      "\n",
      "          1       0.00      0.00      0.00        32\n",
      "          0       0.93      1.00      0.96       438\n",
      "\n",
      "avg / total       0.87      0.93      0.90       470\n",
      "\n",
      "Confusion matrix for knn:\n",
      "[[0  1]]\n",
      "[[  0  32]\n",
      " [  1 437]] \n",
      "\n",
      "F1 weighted average: 0.898008 \n",
      "\n",
      "F1 macro average: 0.481808 \n",
      "\n",
      "(0.89800839803889365, 0.48180815876515987)\n",
      "(0.90777410200003361, 0.54001578531965277)\n",
      "(0.89800839803889365, 0.48180815876515987)\n"
     ]
    },
    {
     "data": {
      "image/png": "[encoded data removed]",
      "text/plain": [
       "<matplotlib.figure.Figure at 0x7f2d0e9832d0>"
      ]
     },
     "metadata": {},
     "output_type": "display_data"
    }
   ],
   "source": [
    "preds = estimator.predict(test)\n",
    "KNN_report_opt=report(test_labels, pred, 'knn')\n",
    "x_labels= ['Knn', 'Knn pipe Opt', 'Knn Optimal']\n",
    "KNN_last_report= KNN_report +KNN_pipe_report + KNN_report_opt\n",
    "print KNN_report\n",
    "print KNN_pipe_report\n",
    "print KNN_report_opt\n",
    "graph_bar(KNN_last_report, x_labels)"
   ]
  },
  {
   "cell_type": "markdown",
   "metadata": {},
   "source": [
    "Το παραπάνω grid search που τρέξαμε είχε ως μετρική την F1_macro. Οπότε τρέχουμε ξανά το grid Search με την μετρική για **f1_ weighted** και εμφανίζουμε πάλι τις διαφορές σε σχέση με τα αρχικά score που είχαμε"
   ]
  },
  {
   "cell_type": "code",
   "execution_count": 27,
   "metadata": {},
   "outputs": [],
   "source": [
    "estimator = GridSearchCV(pipe, dict(selector__threshold=vthreshold, pca__n_components=n_components,kNN__weights=weights,kNN__metric=metrics, kNN__n_neighbors=k), scoring='f1_weighted', n_jobs=-1)"
   ]
  },
  {
   "cell_type": "code",
   "execution_count": 28,
   "metadata": {},
   "outputs": [
    {
     "name": "stdout",
     "output_type": "stream",
     "text": [
      "Took: 64.8321909904 sec\n"
     ]
    }
   ],
   "source": [
    "time1= time.time()\n",
    "estimator.fit(train, train_labels)\n",
    "preds = estimator.predict(test)\n",
    "print \"Took: %s sec\" %(time.time()- time1)"
   ]
  },
  {
   "cell_type": "code",
   "execution_count": 29,
   "metadata": {},
   "outputs": [
    {
     "name": "stdout",
     "output_type": "stream",
     "text": [
      "Pipeline(memory='tmp',\n",
      "     steps=[('selector', VarianceThreshold(threshold=0)), ('scaler', StandardScaler(copy=True, with_mean=True, with_std=True)), ('pca', PCA(copy=True, iterated_power='auto', n_components=25, random_state=None,\n",
      "  svd_solver='auto', tol=0.0, whiten=False)), ('kNN', KNeighborsClassifier(algorithm='auto', leaf_size=30, metric='euclidean',\n",
      "           metric_params=None, n_jobs=-1, n_neighbors=7, p=2,\n",
      "           weights='uniform'))])\n",
      "             precision    recall  f1-score   support\n",
      "\n",
      "          1       0.00      0.00      0.00        32\n",
      "          0       0.93      1.00      0.96       438\n",
      "\n",
      "avg / total       0.87      0.93      0.90       470\n",
      "\n",
      "Confusion matrix for knn:\n",
      "[[0  1]]\n",
      "[[  0  32]\n",
      " [  1 437]] \n",
      "\n",
      "F1 weighted average: 0.898008 \n",
      "\n",
      "F1 macro average: 0.481808 \n",
      "\n",
      "(0.89800839803889365, 0.48180815876515987)\n",
      "(0.90777410200003361, 0.54001578531965277)\n",
      "(0.89800839803889365, 0.48180815876515987)\n"
     ]
    },
    {
     "data": {
      "image/png": "[encoded data removed]",
      "text/plain": [
       "<matplotlib.figure.Figure at 0x7f2cb8372790>"
      ]
     },
     "metadata": {},
     "output_type": "display_data"
    }
   ],
   "source": [
    "print estimator.best_estimator_\n",
    "preds = estimator.predict(test)\n",
    "KNN_report_opt=report(test_labels, pred, 'knn')\n",
    "x_labels= ['Knn', 'Knn pipe Opt', 'Knn Optimal']\n",
    "KNN_last_report= KNN_report +KNN_pipe_report + KNN_report_opt\n",
    "print KNN_report\n",
    "print KNN_pipe_report\n",
    "print KNN_report_opt\n",
    "graph_bar(KNN_last_report, x_labels)"
   ]
  },
  {
   "cell_type": "markdown",
   "metadata": {},
   "source": [
    "Βλέπουμε ότι οι Optimal τιμές με τις default δεν έφεραν ιδιαίτερη αλλαγή στο αποτέλεσμα. Την πιο σημαντική αλλαγή την έφερε η σχεδίαση της αρχιτεκτονικής του συστήματος.Αυτό μπορεί αν οφείλεται στο γεγονός οτι για λόγους γρήγορης εκτέλεσης δεν εχούμε βάλει πολλές παραμέτρους για έλεγχο. Αν θέλαμε πιο ακριβή αποτελέσματα θα μπορούσαμε να βάλουμε. Εμείς έχουμε τρέξει για διάφορες τιμές το πρόγραμμα αλλά έχουμε δει οτι οι διαφορές είναι αρκετά μικρές.\n",
    "\n",
    "Για την επιλογή των n_conpoments της τεχνικής PCA εκτελέσαμε μια φόρα χειροκίνητα και είδαμε από το διάγραμμα ότι είχαμε το 99% της πληροφορίας με μόλις τις πρώτες 20 στήλες και γι αυτό επιλέξαμε χαρακτηριστικά σε αυτό περίπου το πεδιο. Ειδικά στο διάγραμμα φαίνεται ξεκάθαρα το ποσσοτό της πληροφορίας που δεν χρειάζεται. Παρακάτω παρουσιάζεται ο κώδικας που το κάνει αυτό μαζί με τα αποτελέσματα που μας έβγαλε."
   ]
  },
  {
   "cell_type": "code",
   "execution_count": 30,
   "metadata": {},
   "outputs": [
    {
     "name": "stdout",
     "output_type": "stream",
     "text": [
      "[ 0.57767937  0.83206094  0.91850657  0.94299758  0.95865956  0.96625239\n",
      "  0.97096532  0.97421921  0.97697478  0.97935795  0.98150421  0.98338477\n",
      "  0.98502221  0.98631319  0.98753447  0.98871734  0.98986659  0.99081847\n",
      "  0.9917072   0.99259046  0.99334445  0.9940598   0.99474604  0.99531135\n",
      "  0.99587153  0.99638339  0.99686411  0.99733026  0.99771359  0.99807404\n",
      "  0.99838419  0.99861411  0.99877712  0.99889847  0.9990158   0.99912726\n",
      "  0.99921328  0.99929512  0.99937413  0.99942973  0.99947747  0.99952439\n",
      "  0.9995698   0.99960808  0.99963913  0.99966787  0.99969341  0.99971697\n",
      "  0.99973846  0.99975975  0.99977609  0.99979189  0.99980684  0.99981988\n",
      "  0.99983262  0.99984519  0.99985686  0.99986799  0.99987845  0.99988793\n",
      "  0.99989692  0.99990553  0.99991315  0.99992015  0.99992661  0.99993258\n",
      "  0.99993769  0.99994272  0.99994741  0.99995132  0.99995503  0.99995855\n",
      "  0.99996166  0.99996441  0.99996686  0.99996926  0.99997138  0.99997344\n",
      "  0.99997528  0.99997688  0.99997844  0.99997986  0.99998121  0.99998244\n",
      "  0.99998362  0.99998462  0.99998556  0.9999864   0.99998723  0.99998796\n",
      "  0.99998864  0.99998924  0.99998977  0.99999029  0.99999078  0.99999126\n",
      "  0.99999168  0.9999921   0.9999925   0.99999288  0.99999322  0.99999354\n",
      "  0.99999385  0.99999413  0.9999944   0.99999465  0.99999489  0.99999513\n",
      "  0.99999535  0.99999557  0.99999577  0.99999596  0.99999614  0.99999632\n",
      "  0.99999649  0.99999666  0.99999681  0.99999697  0.99999712  0.99999726\n",
      "  0.99999738  0.9999975   0.99999762  0.99999774  0.99999785  0.99999796\n",
      "  0.99999806  0.99999816  0.99999825  0.99999834  0.99999843  0.99999851\n",
      "  0.99999859  0.99999867  0.99999874  0.99999882  0.99999889  0.99999895\n",
      "  0.99999902  0.99999908  0.99999914  0.9999992   0.99999925  0.9999993\n",
      "  0.99999935  0.99999939  0.99999943  0.99999946  0.9999995   0.99999953\n",
      "  0.99999956  0.99999958  0.99999961  0.99999963  0.99999965  0.99999967\n",
      "  0.99999969  0.99999971  0.99999973  0.99999975  0.99999976  0.99999978\n",
      "  0.99999979  0.99999981  0.99999982  0.99999983  0.99999984  0.99999985\n",
      "  0.99999986  0.99999987  0.99999988  0.99999989  0.99999989  0.9999999\n",
      "  0.99999991  0.99999991  0.99999992  0.99999992  0.99999993  0.99999993\n",
      "  0.99999993  0.99999994  0.99999994  0.99999995  0.99999995  0.99999995\n",
      "  0.99999995  0.99999996  0.99999996  0.99999996  0.99999996  0.99999997\n",
      "  0.99999997  0.99999997  0.99999997  0.99999997  0.99999997  0.99999998\n",
      "  0.99999998  0.99999998  0.99999998  0.99999998  0.99999998  0.99999998\n",
      "  0.99999998  0.99999999  0.99999999  0.99999999  0.99999999  0.99999999\n",
      "  0.99999999  0.99999999  0.99999999  0.99999999  0.99999999  0.99999999\n",
      "  0.99999999  0.99999999  0.99999999  0.99999999  0.99999999  0.99999999\n",
      "  0.99999999  0.99999999  0.99999999  1.          1.          1.          1.\n",
      "  1.          1.          1.          1.          1.          1.          1.\n",
      "  1.          1.          1.          1.          1.          1.          1.\n",
      "  1.          1.          1.          1.          1.          1.          1.\n",
      "  1.          1.          1.          1.          1.          1.          1.\n",
      "  1.          1.          1.          1.          1.          1.          1.\n",
      "  1.          1.          1.          1.          1.          1.          1.\n",
      "  1.          1.          1.          1.          1.          1.          1.\n",
      "  1.          1.          1.          1.          1.          1.          1.\n",
      "  1.          1.          1.          1.          1.          1.          1.\n",
      "  1.          1.          1.          1.          1.          1.          1.\n",
      "  1.          1.          1.          1.          1.          1.          1.\n",
      "  1.          1.          1.          1.          1.          1.          1.\n",
      "  1.          1.          1.          1.          1.          1.          1.\n",
      "  1.          1.          1.          1.          1.          1.          1.\n",
      "  1.          1.          1.          1.          1.          1.          1.\n",
      "  1.          1.          1.          1.          1.          1.          1.\n",
      "  1.          1.          1.          1.          1.          1.          1.\n",
      "  1.          1.          1.          1.          1.          1.          1.\n",
      "  1.          1.          1.          1.          1.          1.          1.\n",
      "  1.          1.          1.          1.          1.          1.          1.\n",
      "  1.          1.          1.          1.          1.          1.          1.\n",
      "  1.          1.          1.          1.          1.          1.          1.\n",
      "  1.          1.          1.          1.          1.          1.          1.\n",
      "  1.          1.          1.          1.          1.          1.          1.\n",
      "  1.          1.          1.          1.          1.          1.          1.\n",
      "  1.          1.          1.          1.          1.          1.          1.\n",
      "  1.          1.          1.          1.          1.          1.          1.\n",
      "  1.          1.          1.          1.          1.          1.          1.\n",
      "  1.          1.          1.          1.          1.          1.          1.\n",
      "  1.          1.          1.          1.          1.          1.          1.\n",
      "  1.          1.          1.          1.          1.          1.          1.\n",
      "  1.          1.          1.          1.          1.          1.          1.\n",
      "  1.          1.          1.          1.          1.          1.          1.\n",
      "  1.          1.          1.          1.          1.          1.          1.\n",
      "  1.          1.          1.          1.          1.          1.          1.\n",
      "  1.          1.          1.          1.          1.          1.          1.\n",
      "  1.          1.          1.          1.          1.          1.          1.\n",
      "  1.          1.          1.          1.          1.          1.          1.\n",
      "  1.          1.          1.          1.          1.          1.          1.\n",
      "  1.          1.          1.          1.          1.          1.          1.\n",
      "  1.          1.          1.          1.          1.          1.          1.\n",
      "  1.          1.          1.          1.          1.          1.          1.\n",
      "  1.          1.          1.          1.          1.          1.          1.\n",
      "  1.          1.          1.          1.          1.          1.          1.\n",
      "  1.          1.          1.          1.          1.          1.          1.\n",
      "  1.          1.          1.          1.          1.          1.          1.\n",
      "  1.          1.          1.          1.          1.          1.          1.\n",
      "  1.          1.          1.          1.          1.          1.          1.\n",
      "  1.          1.          1.          1.          1.          1.          1.\n",
      "  1.          1.          1.          1.          1.          1.          1.\n",
      "  1.          1.          1.          1.          1.          1.          1.\n",
      "  1.          1.          1.          1.        ]\n"
     ]
    },
    {
     "data": {
      "image/png": "[encoded data removed]",
      "text/plain": [
       "<matplotlib.figure.Figure at 0x7f2cb85ed750>"
      ]
     },
     "metadata": {},
     "output_type": "display_data"
    }
   ],
   "source": [
    "from sklearn.decomposition import PCA\n",
    "pca = PCA()\n",
    "trainPCA = pca.fit_transform(train)\n",
    "evar = pca.explained_variance_ratio_\n",
    "cum_evar = np.cumsum(evar)\n",
    "print cum_evar\n",
    "plt.figure(1, figsize=(5, 5))\n",
    "plt.xlabel(\"Principal Component number\")\n",
    "plt.ylabel('Cumulative Variance')\n",
    "plt.plot(cum_evar, linewidth=2)\n",
    "plt.show()"
   ]
  },
  {
   "cell_type": "markdown",
   "metadata": {},
   "source": [
    "<center><h2>GNB Classification</center></h2>\n",
    "\n",
    "Στη συνέχεια θα βελτιστοποιήσουμε την αρχιτεκτονική του **GNB Classification**.\n",
    "\n",
    "Θα βρούμε την βέλτιστη αρχιτεκτονική για την προεπεξεργασία των δεδομένων."
   ]
  },
  {
   "cell_type": "code",
   "execution_count": null,
   "metadata": {},
   "outputs": [],
   "source": [
    "# αρχικοποιούμε τους εκτιμητές (μετασχηματιστές και ταξινομητή) χωρίς παραμέτρους για Gaussian Bayes\n",
    "selector = VarianceThreshold()\n",
    "scaler = StandardScaler()\n",
    "ros = RandomOverSampler()\n",
    "pca = PCA()\n",
    "clf = GaussianNB()\n",
    "pipe = Pipeline(steps=[('sampler', ros),('scaler', scaler),('selector', selector), ('pca', pca),('gnb', clf)], memory = 'tmp')"
   ]
  },
  {
   "cell_type": "code",
   "execution_count": null,
   "metadata": {},
   "outputs": [],
   "source": [
    "pipe.fit(train,train_labels)\n",
    "preds = pipe.predict(test)\n",
    "GNB_pipe_report= report(test_labels, preds,'GNB')\n",
    "print GNB_report\n",
    "print GNB_pipe_report\n",
    "GNB_reports= GNB_report + GNB_pipe_report\n",
    "x_labels= ['Default GNB', 'GNB with Prepsossecing']\n",
    "graph_bar(GNB_reports, x_labels)"
   ]
  },
  {
   "cell_type": "markdown",
   "metadata": {},
   "source": [
    "Όπως παρατηρούμε από το παραπάνω διάγραμμα η προεπεξεργασία των δεδομένων επιφέρει θεαματική αλλαγή στο σκόρ του GNB ταξινομητή. Επίσης παρατηρήσαμε κατά τη διάρκεια αναζήτησης της βέλτιστης αρχιτεκτονικής προεπεξεργασίας οτι υπήρχαν μεγάλες διαφορές στα αποτελέσματα από τα παραπάνω. Για παράδειγμα αν σβήναμε τον sampler είχαμε όπως ήταν λογικό μεγάλη μείωση της απόδοσης του ταξινομητή αυτού όπως και αν σβήναμε τον selector. Για την εύρεση της βέλτιστης αρχιτεκτονικής δοκιμάστηκαν αρκετές διαφορετικές μέθοδοι και αυτή που έδωσε τα καλύτερα αποτελέσματα ήταν η παραπάνω. Τέλος παρατηρήσαμε ότι τη μεγαλύτερη αύξηση στην απόδοση την προσφέρει η τεχνική του PCA μιας και χωρίς καμία μέθοδο προεπεξεργασίας τα αποτελέσματα δεν αλλάζουν σχεδόν καθόλου. Άρα το πλέον σημαντικό βήμα το οποίο πετυχαίνει την αύξηση της απόδοσης του ταξινομητή **GNB** είναι το βήμα της εξαγωγής χαρακτηριστικών **PCA**.\n",
    "\n",
    "Στη συνέχεια θα ψάξουμε την βέλτιστη τιμή των υπερπαραμέτρων αυτής της αρχιτεκτονικής. Συγκεκριμένα, ο GNB δεν έχει κάποιες υπερπαραμέτρους (σύμφωνα με την εκφώνηση) και γι αυτό θα κάνουμε grid Search μόνο για τις τιμές των παραμέτρων της προεπεξεργασίας δηλαδή για το κατώφλι και τα χαρακτηριστικά της PCA."
   ]
  },
  {
   "cell_type": "code",
   "execution_count": null,
   "metadata": {},
   "outputs": [],
   "source": [
    "\n",
    "estimator = GridSearchCV(pipe, dict(selector__threshold=vthreshold, pca__n_components=n_components), scoring='f1_macro', n_jobs=-1)\n",
    "\n",
    "time1= time.time()\n",
    "estimator.fit(train, train_labels)\n",
    "preds = estimator.predict(test)\n",
    "print \"Took: %s sec\" %(time.time()- time1)"
   ]
  },
  {
   "cell_type": "markdown",
   "metadata": {},
   "source": [
    "Εκτυπώνουμε τις βέλτιστες τιμές των υπερπαραμέτρων που βρήκαμε μέσω του **grid Search**."
   ]
  },
  {
   "cell_type": "code",
   "execution_count": 34,
   "metadata": {},
   "outputs": [
    {
     "name": "stdout",
     "output_type": "stream",
     "text": [
      "Pipeline(memory='tmp',\n",
      "     steps=[('sampler', RandomOverSampler(random_state=None, ratio='auto')), ('scaler', StandardScaler(copy=True, with_mean=True, with_std=True)), ('selector', VarianceThreshold(threshold=0)), ('pca', PCA(copy=True, iterated_power='auto', n_components=30, random_state=None,\n",
      "  svd_solver='auto', tol=0.0, whiten=False)), ('gnb', GaussianNB(priors=None))])\n"
     ]
    }
   ],
   "source": [
    "print estimator.best_estimator_"
   ]
  },
  {
   "cell_type": "markdown",
   "metadata": {},
   "source": [
    "Συγκρίνουμε τα αποτελέσματα με αυτά που είχαμε πριν για να δούμε τη διαφορά που είχαν οι υπερπαράμετροι από τους default."
   ]
  },
  {
   "cell_type": "code",
   "execution_count": null,
   "metadata": {},
   "outputs": [],
   "source": [
    "preds = estimator.predict(test)\n",
    "GNB_report_opt=report(test_labels, pred, 'GNB')\n",
    "x_labels= ['GNB', 'GNB pipe Default', 'GNB Optimal']\n",
    "GNB_last_report= KNN_report +GNB_pipe_report + GNB_report_opt\n",
    "print GNB_report\n",
    "print GNB_pipe_report\n",
    "print GNB_report_opt\n",
    "graph_bar(GNB_last_report, x_labels)"
   ]
  },
  {
   "cell_type": "markdown",
   "metadata": {},
   "source": [
    "Κάνουμε grid search και για scoring **f1 weighted**."
   ]
  },
  {
   "cell_type": "code",
   "execution_count": 36,
   "metadata": {},
   "outputs": [
    {
     "name": "stdout",
     "output_type": "stream",
     "text": [
      "Took: 2.92824912071 sec\n"
     ]
    }
   ],
   "source": [
    "estimator = GridSearchCV(pipe, dict(selector__threshold=vthreshold, pca__n_components=n_components), scoring='f1_weighted', n_jobs=-1)\n",
    "\n",
    "time1= time.time()\n",
    "estimator.fit(train, train_labels)\n",
    "preds = estimator.predict(test)\n",
    "print \"Took: %s sec\" %(time.time()- time1)"
   ]
  },
  {
   "cell_type": "code",
   "execution_count": 37,
   "metadata": {},
   "outputs": [
    {
     "name": "stdout",
     "output_type": "stream",
     "text": [
      "Pipeline(memory='tmp',\n",
      "     steps=[('sampler', RandomOverSampler(random_state=None, ratio='auto')), ('scaler', StandardScaler(copy=True, with_mean=True, with_std=True)), ('selector', VarianceThreshold(threshold=0)), ('pca', PCA(copy=True, iterated_power='auto', n_components=20, random_state=None,\n",
      "  svd_solver='auto', tol=0.0, whiten=False)), ('gnb', GaussianNB(priors=None))])\n"
     ]
    }
   ],
   "source": [
    "print estimator.best_estimator_"
   ]
  },
  {
   "cell_type": "code",
   "execution_count": null,
   "metadata": {},
   "outputs": [],
   "source": [
    "preds = estimator.predict(test)\n",
    "GNB_report_opt=report(test_labels, pred, 'GNB')\n",
    "x_labels= ['GNB', 'GNB pipe Default', 'GNB Optimal']\n",
    "GNB_last_report= GNB_report +GNB_pipe_report + GNB_report_opt\n",
    "print GNB_report\n",
    "print GNB_pipe_report\n",
    "print GNB_report_opt\n",
    "graph_bar(GNB_last_report, x_labels)"
   ]
  },
  {
   "cell_type": "markdown",
   "metadata": {},
   "source": [
    "Σε αυτό το grid search βρήκαμε μόνο τις υπερπαρεμέτρους της προεπεξεργασίας. Αξίζει να σημειωθεί οτι τα αρχικά με τα τελικά σκορ διαφέρουν αισθητά (έχουν αυξηθεί κατά **60%** περίπου)!"
   ]
  },
  {
   "cell_type": "markdown",
   "metadata": {},
   "source": [
    "<center><h2> MLP</center></h2>\n",
    "\n",
    "Τέλος θα βελτιστοποιήσουμε το **MLP**."
   ]
  },
  {
   "cell_type": "code",
   "execution_count": 39,
   "metadata": {},
   "outputs": [],
   "source": [
    "# αρχικοποιούμε τους εκτιμητές (μετασχηματιστές και ταξινομητή) χωρίς παραμέτρους για Gaussian Bayes\n",
    "selector = VarianceThreshold()\n",
    "scaler = StandardScaler()\n",
    "ros = RandomOverSampler()\n",
    "pca = PCA()\n",
    "clf = MLPClassifier()\n",
    "pipe = Pipeline(steps=[('scaler', scaler),('sampler', ros),('selector', selector), ('pca', pca),('MLP', clf)], memory = 'tmp')"
   ]
  },
  {
   "cell_type": "code",
   "execution_count": 40,
   "metadata": {},
   "outputs": [
    {
     "name": "stderr",
     "output_type": "stream",
     "text": [
      "/gpfs/fs01/user/sa71-dc88b9d39accf5-024122dacd14/.local/lib/python2.7/site-packages/sklearn/neural_network/multilayer_perceptron.py:566: UserWarning: Training interrupted by user.\n",
      "  warnings.warn(\"Training interrupted by user.\")\n"
     ]
    },
    {
     "name": "stdout",
     "output_type": "stream",
     "text": [
      "             precision    recall  f1-score   support\n",
      "\n",
      "          1       0.17      0.19      0.18        32\n",
      "          0       0.94      0.93      0.94       438\n",
      "\n",
      "avg / total       0.89      0.88      0.88       470\n",
      "\n",
      "Confusion matrix for Pipe MLP:\n",
      "[[0  1]]\n",
      "[[  6  26]\n",
      " [ 30 408]] \n",
      "\n",
      "F1 weighted average: 0.884082 \n",
      "\n",
      "F1 macro average: 0.556125 \n",
      "\n",
      "(0.86457199406234531, 0.52180232558139528)\n",
      "(0.88408216692884445, 0.55612520237452778)\n"
     ]
    },
    {
     "data": {
      "image/png": "[encoded data removed]",
      "text/plain": [
       "<matplotlib.figure.Figure at 0x7f2cb832bd90>"
      ]
     },
     "metadata": {},
     "output_type": "display_data"
    }
   ],
   "source": [
    "pipe.fit(train,train_labels)\n",
    "preds = pipe.predict(test)\n",
    "MLP_pipe_report= report(test_labels, preds,'Pipe MLP')\n",
    "print MLP_report\n",
    "print MLP_pipe_report\n",
    "MLP_reports= MLP_report + MLP_pipe_report\n",
    "x_labels= ['Default MLP', 'MLP with Prepsossecing']\n",
    "graph_bar(MLP_reports, x_labels)"
   ]
  },
  {
   "cell_type": "markdown",
   "metadata": {},
   "source": [
    "Βλέπουμε από τα παραπάνω ότι η προεπεξεργασία των δεδομένων είχε αλλαγή στο αποτέλεσμα του MLP με τις default τιμές. Αξίζει να σημειωθεί οτι δοκιμάστηκαν και άλλέες αρχιτεκτονικές προεπεξεργασίας αλλά αυτή ήταν η καλύτερη. Επίσης χρησιμοποιήθηκε και ο UnderSmpler άλλα όπως ήδη είχε αναφερθεί και στα εργαστήρια είχε χειρότερα αποτελέσματα από τον overSampler. Στη συνέχεια αφού έχουμε βρει τις βέλτιστες αρχιτεκτονικές προεπεξεργασίας των dataset θα πάμε να βρούμε τις βέλτιστες τιμές των υπερπαραμέτρων όπως αυτές αναφέρονται στην εκφώνηση. Για αυτή τη δουλειά θα χρησιμοποιήσουμε την τεχνική grid Search δηλαδή θα ορίσουμε διάφορες τιμές υπερπαραμέτρων και η συνάρτηση θα ψάξει για όλους τους συνδυασμούς κι θα κρατήσει μια τιμή η οποία μεγιστοποιεί την μετρική που θέλουμε κάθε φορά. Όπως αναφέρει και στην εκφώνηση θα χρησιμοποιήσουμε 2 μετρικές για αυτην την δουλεία: την F1 weighted και την F1 macro. Τέλος, μόνο για τον KNN και τον MLP θα ψάξουμε τις τιμές των υπερπαραμέτρων και μόνο για τις παραμέτρους που αναφέρονται στην εκφώνηση (ουσιαστικά μονό για αυτές ζητούνται)."
   ]
  },
  {
   "cell_type": "code",
   "execution_count": null,
   "metadata": {},
   "outputs": [],
   "source": [
    "possible_layers= list(range(1,50,5))\n",
    "activation= ['identity', 'logistic', 'tanh', 'relu']\n",
    "sol = ['lbfgs', 'sgd', 'adam']\n",
    "max_iter = range(1,201,50)\n",
    "learning_rate= ['constant', 'invscaling', 'adaptive']\n",
    "alpha = [1e-6,1e-5,1e-4,1e-3,1e-2,1e-1,1]\n",
    "estimator = GridSearchCV(pipe, dict(selector__threshold=vthreshold, pca__n_components=n_components,\n",
    "                                    MLP__hidden_layer_sizes=possible_layers,\n",
    "                                    MLP__alpha= alpha, \n",
    "                                    MLP__solver= sol, \n",
    "                                    MLP__max_iter= max_iter, \n",
    "                                    MLP__learning_rate= learning_rate, \n",
    "                                    MLP__activation= activation), scoring='f1_weighted', n_jobs=-1)\n",
    "\n",
    "time1= time.time()\n",
    "estimator.fit(train, train_labels)\n",
    "preds = estimator.predict(test)\n",
    "print \"Took: %s sec\" %(time.time()- time1)"
   ]
  },
  {
   "cell_type": "code",
   "execution_count": null,
   "metadata": {},
   "outputs": [],
   "source": [
    "print estimator.best_estimator_\n",
    "preds = estimator.predict(test)\n",
    "GNB_report_opt=report(test_labels, pred, 'MLP')\n",
    "x_labels= ['MLP', 'MLP pipe Default', 'MLP Optimal']\n",
    "MLP_last_report= MLP_report +MLP_pipe_report + MLP_report_opt\n",
    "print MLP_report\n",
    "print MLP_pipe_report\n",
    "print MLP_report\n",
    "graph_bar(MLP_last_report, x_labels)"
   ]
  },
  {
   "cell_type": "code",
   "execution_count": null,
   "metadata": {},
   "outputs": [],
   "source": [
    "possible_layers= list(range(1,50,10))\n",
    "activation= ['identity', 'logistic', 'tanh', 'relu']\n",
    "sol = ['lbfgs', 'sgd', 'adam']\n",
    "max_iter = range(1,201,50)\n",
    "learning_rate= ['constant', 'invscaling', 'adaptive']\n",
    "alpha = [1e-6,1e-5,1e-4,1e-3,1e-2,1e-1,1]\n",
    "estimator = GridSearchCV(pipe, dict(selector__threshold=vthreshold, pca__n_components=n_components,\n",
    "                                    MLP__hidden_layer_sizes=possible_layers,\n",
    "                                    MLP__alpha= alpha, \n",
    "                                    MLP__solver= sol, \n",
    "                                    MLP__max_iter= max_iter, \n",
    "                                    MLP__learning_rate= learning_rate, \n",
    "                                    MLP__activation= activation), scoring='f1_macro', n_jobs=-1)\n",
    "\n",
    "time1= time.time()\n",
    "estimator.fit(train, train_labels)\n",
    "preds = estimator.predict(test)\n",
    "print \"Took: %s sec\" %(time.time()- time1)"
   ]
  },
  {
   "cell_type": "markdown",
   "metadata": {},
   "source": [
    "Στην συνέχεία κάνουμε το ίδιο και για μετρική **F1_ macro**. Άρα έχουμε τα παρακάτω."
   ]
  },
  {
   "cell_type": "code",
   "execution_count": null,
   "metadata": {},
   "outputs": [],
   "source": [
    "print estimator.best_estimator_\n",
    "preds = estimator.predict(test)\n",
    "GNB_report_opt=report(test_labels, pred, 'MLP')\n",
    "x_labels= ['MLP', 'MLP pipe Default', 'MLP Optimal']\n",
    "MLP_last_report= MLP_report +MLP_pipe_report + MLP_report_opt\n",
    "print MLP_report\n",
    "print MLP_pipe_report\n",
    "print MLP_report\n",
    "graph_bar(MLP_last_report, x_labels)"
   ]
  },
  {
   "cell_type": "markdown",
   "metadata": {},
   "source": [
    "O MLP έχε αρκετές παραμέτρους προς βελτιστοποίηση και μαζί με τις υπερπαραμέτρους της προεπεξεργασίας κάνει το grid search να καθυστερεί αρκετά.\n",
    "\n",
    "Όπως πάντα, έτσι και για τον MLP τυπώνονται οι βέλτιστες τιμές της αρχιτεκτονικής. Από τις παραπάνω εκτελέσεις είδαμε οτι έχουμε βελτίωση με τις βέλτιστες παραμέτρους που πήραμε από την grid Search. Παρόλα αυτά για να πετύχουμε το πραγματικό μέγιστο που θα μπορούσαμε να πάρουμε θα έπρεπε να δοκιμάσουμε περισσότερες τιμές στις παραμέτρους. Αυτό όπως είναι αναμενόμενο θα έπερνε πολύ περισσότερο χρόνο αλλά θα είχαμε καταφέρει να αυξήσουμε κι άλλο την απόδοση του Mlp. Παρόλα αυτά το score του είναι ήδη αρκετά καλό."
   ]
  }
 ],
 "metadata": {
  "kernelspec": {
   "display_name": "Python 2 with Spark 2.1",
   "language": "python",
   "name": "python2-spark21"
  },
  "language_info": {
   "codemirror_mode": {
    "name": "ipython",
    "version": 2
   },
   "file_extension": ".py",
   "mimetype": "text/x-python",
   "name": "python",
   "nbconvert_exporter": "python",
   "pygments_lexer": "ipython2",
   "version": "2.7.11"
  }
 },
 "nbformat": 4,
 "nbformat_minor": 1
}
